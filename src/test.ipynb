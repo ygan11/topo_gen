{
 "cells": [
  {
   "cell_type": "code",
   "execution_count": null,
   "id": "initial_id",
   "metadata": {
    "ExecuteTime": {
     "end_time": "2024-02-23T21:17:37.173155Z",
     "start_time": "2024-02-23T21:17:37.141422Z"
    },
    "collapsed": true
   },
   "outputs": [],
   "source": [
    "from endnodes_gen import endnode_graph_gen\n",
    "from iter_kms_ga import iterate_kms_ga\n",
    "from grid_steiner import construct_steiner_tree\n",
    "from waxman_topo_gen import construct_waxman\n",
    "import os\n",
    "topo_num = 1\n",
    "endnode_nums = [25]#, 25], 50, 200, 400, 800]\n",
    "endnodes_files = []\n",
    "\n",
    "# for i in range(topo_num):\n",
    "#     for endnode_num in endnode_nums:\n",
    "#         f = endnode_graph_gen(endnode_num, i)\n",
    "#         endnodes_files.append(f)\n",
    "# endnodes_files.append(\"../dist/endnodes/endnodesLocs-100-0.json\")\n",
    "\n",
    "endnodes_files = [f for f in os.listdir(\"../dist/endnodes/\")]# if os.path.isfile(f)]\n",
    "endnodes_files = [\"../dist/endnodes/\" + f for f in endnodes_files]\n",
    "\n",
    "print (endnodes_files)\n",
    "\n",
    "for f in endnodes_files:\n",
    "    \n",
    "    # construct_steiner_tree(f)\n",
    "    # print (\"steiner tree generated for \" + f)\n",
    "    # iterate_kms_ga(f)\n",
    "    # print (\"kms ga generated\")\n",
    "    construct_waxman(f, degree=5, edge_len=1000)\n",
    "    print (\"waxman graph generated for \" + f)"
   ]
  },
  {
   "cell_type": "code",
   "execution_count": null,
   "id": "aa9dee8f462946f4",
   "metadata": {},
   "outputs": [],
   "source": [
    "topo_num = 10\n",
    "endnode_nums = [100, 25, 50, 200, 400]\n",
    "endnodes_files = []\n",
    "\n",
    "for i in range(topo_num):\n",
    "    for endnode_num in endnode_nums:\n",
    "        f = endnode_graph_gen(endnode_num, i)\n",
    "        endnodes_files.append(f)\n",
    "\n",
    "for f in endnodes_files:\n",
    "    construct_steiner_tree(f)\n",
    "    # print (\"steiner tree generated\")\n",
    "    # iterate_kms_ga(f)"
   ]
  }
 ],
 "metadata": {
  "kernelspec": {
   "display_name": "Python 3",
   "language": "python",
   "name": "python3"
  },
  "language_info": {
   "codemirror_mode": {
    "name": "ipython",
    "version": 3
   },
   "file_extension": ".py",
   "mimetype": "text/x-python",
   "name": "python",
   "nbconvert_exporter": "python",
   "pygments_lexer": "ipython3",
   "version": "3.10.13"
  }
 },
 "nbformat": 4,
 "nbformat_minor": 5
}
