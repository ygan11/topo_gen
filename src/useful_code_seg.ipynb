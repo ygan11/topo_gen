{
 "cells": [
  {
   "cell_type": "code",
   "execution_count": null,
   "metadata": {},
   "outputs": [],
   "source": [
    "# Add distance attribute to edges of Waxman graphs\n",
    "from utils import add_dis_attr_to_edges\n",
    "from config import abs_file_path  \n",
    "import networkx as nx\n",
    "import numpy as np\n",
    "import json\n",
    "import os\n",
    "\n",
    "\n",
    "n_values = [25, 50, 100, 200, 400]\n",
    "topo_indices = range(10)\n",
    "file_path = abs_file_path + \"/dist/topos/\"\n",
    "\n",
    "for n in n_values:\n",
    "    for topo_index in topo_indices:\n",
    "        file_name = \"waxman-{n}-{topo_index}.json\".format(n=n, topo_index=topo_index)\n",
    "        file = file_path + file_name\n",
    "        with open(file, \"r\") as f:\n",
    "            data = json.load(f)\n",
    "            G = nx.json_graph.node_link_graph(data)\n",
    "        G = add_dis_attr_to_edges(G)\n",
    "\n",
    "        with open(file, 'w') as file:\n",
    "          json.dump(nx.node_link_data(G), file)\n",
    "\n",
    "        print(file_name + \" saved\")"
   ]
  },
  {
   "cell_type": "code",
   "execution_count": null,
   "metadata": {},
   "outputs": [],
   "source": [
    "# Allocate resource for all repeaters in all topologies\n",
    "from resource_allocation import allocate_resource\n",
    "import os\n",
    "from config import abs_file_path\n",
    "\n",
    "dir_path = abs_file_path + \"/dist/topos/\"#[f for f in os.listdir(\"../dist/topos/\")]\n",
    "\n",
    "topo_files = [f for f in os.listdir(dir_path) if os.path.isfile(os.path.join(dir_path, f))]\n",
    "# topo_files = [\"deepPlace-25-3.json\"]\n",
    "\n",
    "\n",
    "for f in topo_files:\n",
    "    print(\"allocating resource for \" + f)\n",
    "    # if topo_files is \"waxman-x-y.json\"\n",
    "    if f.split(\"-\")[0] == \"steiner\":\n",
    "        \n",
    "      allocate_resource(topo_file_name=f, k=1, topo_allocated_file_name=f) \n",
    "      \n",
    "    else:\n",
    "      try :\n",
    "        allocate_resource(topo_file_name=f, k=3, topo_allocated_file_name=f)\n",
    "      except:\n",
    "        allocate_resource(topo_file_name=f, k=1, topo_allocated_file_name=f)\n",
    "    print (\"resource allocated for \" + f)\n",
    "              "
   ]
  }
 ],
 "metadata": {
  "kernelspec": {
   "display_name": "Python 3",
   "language": "python",
   "name": "python3"
  },
  "language_info": {
   "codemirror_mode": {
    "name": "ipython",
    "version": 3
   },
   "file_extension": ".py",
   "mimetype": "text/x-python",
   "name": "python",
   "nbconvert_exporter": "python",
   "pygments_lexer": "ipython3",
   "version": "3.10.13"
  }
 },
 "nbformat": 4,
 "nbformat_minor": 2
}
